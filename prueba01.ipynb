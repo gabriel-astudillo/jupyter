{
  "nbformat": 4,
  "nbformat_minor": 0,
  "metadata": {
    "colab": {
      "provenance": [],
      "authorship_tag": "ABX9TyP1NUJfPropXdhKG8LxfYda",
      "include_colab_link": true
    },
    "kernelspec": {
      "name": "python3",
      "display_name": "Python 3"
    },
    "language_info": {
      "name": "python"
    }
  },
  "cells": [
    {
      "cell_type": "markdown",
      "metadata": {
        "id": "view-in-github",
        "colab_type": "text"
      },
      "source": [
        "<a href=\"https://colab.research.google.com/github/gabriel-astudillo/jupyter/blob/master/prueba01.ipynb\" target=\"_parent\"><img src=\"https://colab.research.google.com/assets/colab-badge.svg\" alt=\"Open In Colab\"/></a>"
      ]
    },
    {
      "cell_type": "code",
      "execution_count": null,
      "metadata": {
        "id": "J-6kqMQFYxnZ"
      },
      "outputs": [],
      "source": [
        "from dataclasses import dataclass"
      ]
    },
    {
      "cell_type": "markdown",
      "source": [
        "Se crea una dataclass de prueba"
      ],
      "metadata": {
        "id": "wvTswKFiZCf6"
      }
    },
    {
      "cell_type": "code",
      "source": [
        "@dataclass\n",
        "class Perro:\n",
        "  nombre: str\n",
        "  edad: float\n",
        "  esJugueton: bool\n",
        "  vacunasAlDia: bool"
      ],
      "metadata": {
        "id": "KjpTBcIwZKAs"
      },
      "execution_count": null,
      "outputs": []
    },
    {
      "cell_type": "markdown",
      "source": [
        "Al crear la **dataclass**, se pueden crear diferentes instancias de ella. Por ejemplo:"
      ],
      "metadata": {
        "id": "14GY439wZeqy"
      }
    },
    {
      "cell_type": "code",
      "source": [
        "perro01 = Perro(\"Inti\", 2.5, True, True)\n",
        "perro02 = Perro(\"Frosty\", 1.5, False, True)\n",
        "perro03 = Perro(\"Aceituna\", 0.9, True, False)"
      ],
      "metadata": {
        "id": "RrGkMqrMZtwh"
      },
      "execution_count": null,
      "outputs": []
    },
    {
      "cell_type": "markdown",
      "source": [
        "Cada instancia tiene la estructura definida en la dataclass, pero en forma independiente."
      ],
      "metadata": {
        "id": "Z2PGWT3baKad"
      }
    },
    {
      "cell_type": "code",
      "source": [
        "print(\"perro01=\", perro01)\n",
        "print(\"perro02=\", perro02)"
      ],
      "metadata": {
        "colab": {
          "base_uri": "https://localhost:8080/"
        },
        "id": "mD-IU3BraJBK",
        "outputId": "5ffa34ee-a813-4e6e-8cee-cbbb452f340c"
      },
      "execution_count": null,
      "outputs": [
        {
          "output_type": "stream",
          "name": "stdout",
          "text": [
            "perro01= Perro(nombre='Inti', edad=2.5, esJugueton=True, vacunasAlDia=True)\n",
            "perro02= Perro(nombre='Frosty', edad=1.5, esJugueton=False, vacunasAlDia=True)\n"
          ]
        }
      ]
    }
  ]
}