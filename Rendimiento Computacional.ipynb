{
 "cells": [
  {
   "cell_type": "markdown",
   "metadata": {},
   "source": [
    "# Rendimiento Computacional"
   ]
  },
  {
   "cell_type": "markdown",
   "metadata": {},
   "source": [
    "Los tiempos de ejecución del programa implementado se midieron a través de la función omp_get_wtime() en los bloques indicados en diagrama de flujo siguiente https://github.com/gabriel-astudillo/jupyter/blob/master/diag_general.png\n",
    "\n",
    "Por cada tamaño de grilla (128x128 y 256x256 pixeles) y por cada \"tiempo total de simulación T\", con T={2000, 4000, 8000}, se realizaron 10 mediciones, cuyos promedios se almacenaron en los archivos \"tejec-128x128.txt\" y \"tejec-256x256.txt\". Estos archivos están disponibles en https://github.com/gabriel-astudillo/jupyter.\n",
    "\n",
    "El código que permite obtener el gráfico comparativo de los tiempos de ejecución para distintos tamaños de grilla, tiempos de simulación y número de threads, es el siguiente:"
   ]
  },
  {
   "cell_type": "code",
   "execution_count": 19,
   "metadata": {
    "collapsed": true
   },
   "outputs": [],
   "source": [
    "import pandas as pd\n",
    "import numpy as np\n",
    "import scipy as sp\n",
    "import plotly.plotly as py\n",
    "import plotly.figure_factory as ff\n",
    "import plotly\n",
    "from plotly.graph_objs import *\n",
    "plotly.tools.set_credentials_file(username='gastudillo', api_key='OiqcwUGj4Jmtn1KtY6oR')"
   ]
  },
  {
   "cell_type": "markdown",
   "metadata": {
    "raw_mimetype": "text/markdown"
   },
   "source": [
    "Se crean las estructuras (data frames) que almacenan los datos de los tiempos de ejecución para ambas grillas"
   ]
  },
  {
   "cell_type": "code",
   "execution_count": 20,
   "metadata": {
    "collapsed": true
   },
   "outputs": [],
   "source": [
    "header_names = [\"threads\",\"T2000Mean\",\"T2000Std\",\"T4000Mean\",\"T4000Std\",\"T8000Mean\",\"T8000Std\"]\n",
    "\n",
    "df_128x128 = pd.read_csv(\"https://raw.githubusercontent.com/gabriel-astudillo/jupyter/master/tejec-128x128.txt\",\n",
    "                         delim_whitespace = True,\n",
    "                         header = None, \n",
    "                         names = header_names\n",
    "                        )\n",
    "\n",
    "\n",
    "df_256x256 = pd.read_csv(\"https://raw.githubusercontent.com/gabriel-astudillo/jupyter/master/tejec-256x256.txt\",\n",
    "                         delim_whitespace = True,\n",
    "                         header = None, \n",
    "                         names = header_names\n",
    "                        )"
   ]
  },
  {
   "cell_type": "markdown",
   "metadata": {},
   "source": [
    "A partir de las data frames, se crean arreglos que contienen los datos datos que se van a graficar. El parámetro independiente es el número de threads, que se almacena en el arreglo \"threads\". Por otro lado, los arreglos \"time_exec_128x128\" y \"time_exec_256x256\" almacenan los tiempos de ejecución para cada tiempo de simulación, ordenados por cantidad de threads."
   ]
  },
  {
   "cell_type": "code",
   "execution_count": 21,
   "metadata": {
    "collapsed": true,
    "scrolled": true
   },
   "outputs": [],
   "source": [
    "threads = df_128x128.threads\n",
    "\n",
    "time_exec_128x128 = [df_128x128.T2000Mean, df_128x128.T4000Mean, df_128x128.T8000Mean]\n",
    "time_exec_256x256 = [df_256x256.T2000Mean, df_256x256.T4000Mean, df_256x256.T8000Mean]\n"
   ]
  },
  {
   "cell_type": "markdown",
   "metadata": {},
   "source": [
    "Finalmente, a través de la función \"make_figure\", se grafican los tiempos de ejecución almacenados de los arreglos anteriores."
   ]
  },
  {
   "cell_type": "code",
   "execution_count": 22,
   "metadata": {
    "collapsed": true
   },
   "outputs": [],
   "source": [
    "def make_figure(times_exec_128, times_exec_256):\n",
    "    trace_2000_128 = {\n",
    "        \"x\" : threads,\n",
    "        \"y\" : times_exec_128[0],\n",
    "        \"name\":'128x128,T=2000',\n",
    "        \"line\": {\n",
    "            \"color\": \"rgb(#ff, #cd, #d2)\",\n",
    "            \"width\": 3\n",
    "        }\n",
    "    }\n",
    "    \n",
    "    trace_4000_128 = {\n",
    "        \"x\":threads,\n",
    "        \"y\" : times_exec_128[1],\n",
    "        \"name\":'128x128,T=4000',\n",
    "        \"line\": {\n",
    "            \"color\": \"rgb(#A2, #D5, #F2)\", \n",
    "            \"width\": 3\n",
    "        } \n",
    "    }\n",
    "    \n",
    "    trace_8000_128 = {\n",
    "        \"x\":threads,\n",
    "        \"y\" : times_exec_128[2],\n",
    "        \"name\":'128x128,T=8000',\n",
    "        \"line\": {\n",
    "            \"color\": \"rgb(#59, #60, #6D)\",\n",
    "            \"width\": 3\n",
    "        }\n",
    "    }\n",
    "    \n",
    "    trace_2000_256 = {\n",
    "        \"x\" : threads,\n",
    "        \"y\" : times_exec_256[0],\n",
    "        \"name\":'256x256,T=2000',\n",
    "        \"line\": {\n",
    "            \"color\": \"rgb(#ff, #cd, #d2)\",\n",
    "            \"width\": 3\n",
    "        }\n",
    "    }\n",
    "    \n",
    "    trace_4000_256 = {\n",
    "        \"x\":threads,\n",
    "        \"y\" : times_exec_256[1],\n",
    "        \"name\":'256x256,T=4000',\n",
    "        \"line\": {\n",
    "            \"color\": \"rgb(#A2, #D5, #F2)\", \n",
    "            \"width\": 3\n",
    "        } \n",
    "    }\n",
    "    \n",
    "    trace_8000_256 = {\n",
    "        \"x\":threads,\n",
    "        \"y\" : times_exec_256[2],\n",
    "        \"name\":'256x256,T=8000',\n",
    "        \"line\": {\n",
    "            \"color\": \"rgb(#59, #60, #6D)\",\n",
    "            \"width\": 3\n",
    "        }\n",
    "    }\n",
    "    \n",
    "    data = [trace_2000_128, trace_4000_128, trace_8000_128,\n",
    "            trace_2000_256, trace_4000_256, trace_8000_256]\n",
    "    \n",
    "    \n",
    "    layout = Layout(title=\"Tiempo de Ejecución por período de simulación<br>para grillas de 128x128 y 256x256 \",\n",
    "                xaxis=dict(\n",
    "                    title='Threads',\n",
    "                    autotick=False,\n",
    "                    ticks='inside',\n",
    "                    tick0=0,\n",
    "                    dtick=1\n",
    "                ),\n",
    "                yaxis=dict(\n",
    "                    title='Tiempo de Ejecución (en segundos)',\n",
    "                    showline=True,\n",
    "                    ticks='outside'\n",
    "                )\n",
    "               )\n",
    "    \n",
    "    fig = Figure(data=data, layout=layout)\n",
    "    \n",
    "    return fig"
   ]
  },
  {
   "cell_type": "code",
   "execution_count": 23,
   "metadata": {
    "collapsed": true
   },
   "outputs": [],
   "source": [
    "fig_128x128 = make_figure(time_exec_128x128, time_exec_256x256)\n",
    "#fig_256x256 = make_figure(time_exec_256x256, \"256x256\")"
   ]
  },
  {
   "cell_type": "code",
   "execution_count": 24,
   "metadata": {},
   "outputs": [
    {
     "data": {
      "text/html": [
       "<iframe id=\"igraph\" scrolling=\"no\" style=\"border:none;\" seamless=\"seamless\" src=\"https://plot.ly/~gastudillo/17.embed\" height=\"525px\" width=\"100%\"></iframe>"
      ],
      "text/plain": [
       "<plotly.tools.PlotlyDisplay object>"
      ]
     },
     "execution_count": 24,
     "metadata": {},
     "output_type": "execute_result"
    }
   ],
   "source": [
    "py.iplot(fig_128x128, filename='time_exec_all')"
   ]
  }
 ],
 "metadata": {
  "celltoolbar": "Raw Cell Format",
  "kernelspec": {
   "display_name": "Python 3",
   "language": "python",
   "name": "python3"
  },
  "language_info": {
   "codemirror_mode": {
    "name": "ipython",
    "version": 3
   },
   "file_extension": ".py",
   "mimetype": "text/x-python",
   "name": "python",
   "nbconvert_exporter": "python",
   "pygments_lexer": "ipython3",
   "version": "3.6.3"
  }
 },
 "nbformat": 4,
 "nbformat_minor": 2
}
